{
 "cells": [
  {
   "cell_type": "markdown",
   "metadata": {},
   "source": [
    "# Quantum teleporation"
   ]
  },
  {
   "cell_type": "markdown",
   "metadata": {},
   "source": [
    "**Reference**  \n",
    "https://github.com/quantumlib/Cirq/blob/master/examples/quantum_teleportation.py  \n",
    "https://en.wikipedia.org/wiki/Quantum_teleportation  \n",
    "https://journals.aps.org/prl/abstract/10.1103/PhysRevLett.70.1895  "
   ]
  },
  {
   "cell_type": "markdown",
   "metadata": {},
   "source": [
    "Quantum Teleportation is a process by which a quantum state can be transmitted\n",
    "by sending only two classical bits of information. This is accomplished by\n",
    "pre-sharing an entangled state between the sender (Alice) and the receiver\n",
    "(Bob). This entangled state allows the receiver (Bob) of the two classical\n",
    "bits of information to possess a qubit with the same state as the one held by\n",
    "the sender (Alice).\n",
    "In the following example output, qubit 0 (the Message) is set to a random state\n",
    "by applying X and Y gates. By sending two classical bits of information after\n",
    "qubit 0 (the Message) and qubit 1 (Alice's entangled qubit) are measured, the\n",
    "final state of qubit 2 (Bob's entangled qubit) will be identical to the\n",
    "original random state of qubit 0 (the Message). This is only possible given\n",
    "that an entangled state is pre-shared between Alice and Bob."
   ]
  },
  {
   "cell_type": "code",
   "execution_count": 1,
   "metadata": {},
   "outputs": [],
   "source": [
    "import random\n",
    "import numpy as np\n",
    "import cirq"
   ]
  },
  {
   "cell_type": "code",
   "execution_count": 3,
   "metadata": {},
   "outputs": [],
   "source": [
    "ranX = random.random()\n",
    "ranY = random.random()"
   ]
  },
  {
   "cell_type": "code",
   "execution_count": 36,
   "metadata": {},
   "outputs": [],
   "source": [
    "msg, alice, bob = cirq.LineQubit.range(3)"
   ]
  },
  {
   "cell_type": "code",
   "execution_count": 37,
   "metadata": {},
   "outputs": [],
   "source": [
    "circuit = cirq.Circuit()"
   ]
  },
  {
   "cell_type": "code",
   "execution_count": 38,
   "metadata": {},
   "outputs": [],
   "source": [
    "# Creates Bell state to be shared between Alice and Bob\n",
    "circuit.append([cirq.H(alice), cirq.CNOT(alice, bob)])    "
   ]
  },
  {
   "cell_type": "code",
   "execution_count": 39,
   "metadata": {},
   "outputs": [],
   "source": [
    "# Creates a random state for the Message\n",
    "circuit.append([cirq.X(msg)**ranX, cirq.Y(msg)**ranY], strategy=cirq.InsertStrategy.NEW_THEN_INLINE)"
   ]
  },
  {
   "cell_type": "code",
   "execution_count": 40,
   "metadata": {},
   "outputs": [],
   "source": [
    "# Bell measurement of the Message and Alice's entangled qubit\n",
    "circuit.append([cirq.CNOT(msg, alice), cirq.H(msg)])\n",
    "circuit.append(cirq.measure(msg, alice))    "
   ]
  },
  {
   "cell_type": "code",
   "execution_count": 41,
   "metadata": {},
   "outputs": [],
   "source": [
    "# Uses the two classical bits from the Bell measurement to recover the\n",
    "# original quantum Message on Bob's entangled qubit\n",
    "circuit.append([cirq.CNOT(alice, bob), cirq.CZ(msg, bob)])"
   ]
  },
  {
   "cell_type": "code",
   "execution_count": 42,
   "metadata": {},
   "outputs": [
    {
     "name": "stdout",
     "output_type": "stream",
     "text": [
      "0: ───────────X^0.337───Y^0.069───@───H───M───────@───\n",
      "                                  │       │       │\n",
      "1: ───H───@───────────────────────X───────M───@───┼───\n",
      "          │                                   │   │\n",
      "2: ───────X───────────────────────────────────X───@───\n"
     ]
    }
   ],
   "source": [
    "print(circuit)"
   ]
  },
  {
   "cell_type": "code",
   "execution_count": 43,
   "metadata": {},
   "outputs": [
    {
     "name": "stdout",
     "output_type": "stream",
     "text": [
      "msg: ───X^0.337───Y^0.069───\n"
     ]
    }
   ],
   "source": [
    "# Compare with the original message\n",
    "msg0 = cirq.NamedQubit('msg')\n",
    "circuit0 = cirq.Circuit([cirq.X(msg0)**ranX, cirq.Y(msg0)**ranY])\n",
    "print(circuit0)"
   ]
  },
  {
   "cell_type": "code",
   "execution_count": 44,
   "metadata": {},
   "outputs": [],
   "source": [
    "sim = cirq.Simulator()"
   ]
  },
  {
   "cell_type": "code",
   "execution_count": 45,
   "metadata": {},
   "outputs": [],
   "source": [
    "result0 = sim.simulate(circuit0)"
   ]
  },
  {
   "cell_type": "code",
   "execution_count": 46,
   "metadata": {},
   "outputs": [
    {
     "data": {
      "text/plain": [
       "array([ 0.10487789, -0.87166107,  0.47875637], dtype=float32)"
      ]
     },
     "execution_count": 46,
     "metadata": {},
     "output_type": "execute_result"
    }
   ],
   "source": [
    "# Bloch vector for the original message\n",
    "cirq.bloch_vector_from_state_vector(result0.final_state, 0)"
   ]
  },
  {
   "cell_type": "code",
   "execution_count": 58,
   "metadata": {},
   "outputs": [],
   "source": [
    "result = sim.simulate(circuit)"
   ]
  },
  {
   "cell_type": "code",
   "execution_count": 59,
   "metadata": {},
   "outputs": [
    {
     "data": {
      "text/plain": [
       "{'0,1': array([0, 1], dtype=uint8)}"
      ]
     },
     "execution_count": 59,
     "metadata": {},
     "output_type": "execute_result"
    }
   ],
   "source": [
    "result.measurements"
   ]
  },
  {
   "cell_type": "code",
   "execution_count": 48,
   "metadata": {},
   "outputs": [
    {
     "data": {
      "text/plain": [
       "array([ 0.1048778 , -0.87166107,  0.4787564 ], dtype=float32)"
      ]
     },
     "execution_count": 48,
     "metadata": {},
     "output_type": "execute_result"
    }
   ],
   "source": [
    "# Bloch vector for the teleported message\n",
    "cirq.bloch_vector_from_state_vector(result.final_state, 2)"
   ]
  },
  {
   "cell_type": "code",
   "execution_count": null,
   "metadata": {},
   "outputs": [],
   "source": []
  }
 ],
 "metadata": {
  "kernelspec": {
   "display_name": "Python 3",
   "language": "python",
   "name": "python3"
  },
  "language_info": {
   "codemirror_mode": {
    "name": "ipython",
    "version": 3
   },
   "file_extension": ".py",
   "mimetype": "text/x-python",
   "name": "python",
   "nbconvert_exporter": "python",
   "pygments_lexer": "ipython3",
   "version": "3.7.3"
  }
 },
 "nbformat": 4,
 "nbformat_minor": 4
}
