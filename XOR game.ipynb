{
 "cells": [
  {
   "cell_type": "markdown",
   "metadata": {},
   "source": [
    "# Simulate an XOR game"
   ]
  },
  {
   "cell_type": "markdown",
   "metadata": {},
   "source": [
    "Referance:  \n",
    "https://cirq.readthedocs.io/en/stable/examples.html#bell-inequality  \n",
    "https://people.eecs.berkeley.edu/~vazirani/s07quantum/notes/lecture1.pdf"
   ]
  },
  {
   "cell_type": "markdown",
   "metadata": {},
   "source": [
    "![game discription](img/game_description.png)"
   ]
  },
  {
   "cell_type": "markdown",
   "metadata": {},
   "source": [
    "![strategy](img/game_strategy.png)"
   ]
  },
  {
   "cell_type": "code",
   "execution_count": 8,
   "metadata": {},
   "outputs": [],
   "source": [
    "import numpy as np\n",
    "import cirq"
   ]
  },
  {
   "cell_type": "code",
   "execution_count": 9,
   "metadata": {},
   "outputs": [],
   "source": [
    "alice = cirq.GridQubit(0, 0)\n",
    "bob = cirq.GridQubit(1, 0)\n",
    "alice_referee = cirq.GridQubit(0, 1)\n",
    "bob_referee = cirq.GridQubit(1, 1)"
   ]
  },
  {
   "cell_type": "code",
   "execution_count": 10,
   "metadata": {},
   "outputs": [],
   "source": [
    "circuit = cirq.Circuit()"
   ]
  },
  {
   "cell_type": "code",
   "execution_count": 11,
   "metadata": {},
   "outputs": [],
   "source": [
    "# Prepare shared entangled state.\n",
    "circuit.append([\n",
    "    cirq.H(alice),\n",
    "    cirq.CNOT(alice, bob),\n",
    "    cirq.X(alice)**-0.25,\n",
    "])"
   ]
  },
  {
   "cell_type": "code",
   "execution_count": 12,
   "metadata": {},
   "outputs": [],
   "source": [
    "# Referees flip coins.\n",
    "circuit.append([\n",
    "    cirq.H(alice_referee),\n",
    "    cirq.H(bob_referee),\n",
    "], strategy=cirq.InsertStrategy.NEW_THEN_INLINE)"
   ]
  },
  {
   "cell_type": "code",
   "execution_count": 13,
   "metadata": {},
   "outputs": [],
   "source": [
    "# Players do a sqrt(X) based on their referee's coin.\n",
    "circuit.append([\n",
    "    cirq.CNOT(alice_referee, alice)**0.5,\n",
    "    cirq.CNOT(bob_referee, bob)**0.5,\n",
    "], strategy=cirq.InsertStrategy.NEW_THEN_INLINE)"
   ]
  },
  {
   "cell_type": "code",
   "execution_count": 14,
   "metadata": {},
   "outputs": [],
   "source": [
    "# Then results are recorded.\n",
    "circuit.append([\n",
    "    cirq.measure(alice, key='a'),\n",
    "    cirq.measure(bob, key='b'),\n",
    "    cirq.measure(alice_referee, key='x'),\n",
    "    cirq.measure(bob_referee, key='y'),\n",
    "], strategy=cirq.InsertStrategy.NEW_THEN_INLINE)"
   ]
  },
  {
   "cell_type": "code",
   "execution_count": 15,
   "metadata": {},
   "outputs": [
    {
     "name": "stdout",
     "output_type": "stream",
     "text": [
      "(0, 0): ───H───@───X^-0.25───────X───────M('a')───\n",
      "               │                 │\n",
      "(0, 1): ───────┼─────────────H───@^0.5───M('x')───\n",
      "               │\n",
      "(1, 0): ───────X─────────────────X───────M('b')───\n",
      "                                 │\n",
      "(1, 1): ─────────────────────H───@^0.5───M('y')───\n"
     ]
    }
   ],
   "source": [
    "# Show circuit.\n",
    "print(circuit)"
   ]
  },
  {
   "cell_type": "code",
   "execution_count": 20,
   "metadata": {},
   "outputs": [
    {
     "name": "stdout",
     "output_type": "stream",
     "text": [
      "Simulating 100000 repetitions...\n"
     ]
    }
   ],
   "source": [
    "# Run simulations.\n",
    "repetitions = 100000\n",
    "print('Simulating {} repetitions...'.format(repetitions))\n",
    "result = cirq.Simulator().run(program=circuit, repetitions=repetitions)"
   ]
  },
  {
   "cell_type": "code",
   "execution_count": 21,
   "metadata": {},
   "outputs": [],
   "source": [
    "# Collect results.\n",
    "a = np.array(result.measurements['a'][:, 0])\n",
    "b = np.array(result.measurements['b'][:, 0])\n",
    "x = np.array(result.measurements['x'][:, 0])\n",
    "y = np.array(result.measurements['y'][:, 0])\n",
    "outcomes = a ^ b == x & y\n",
    "win_percent = len([e for e in outcomes if e]) * 100 / repetitions"
   ]
  },
  {
   "cell_type": "code",
   "execution_count": 22,
   "metadata": {},
   "outputs": [],
   "source": [
    "def bitstring(bits):\n",
    "    return ''.join('1' if e else '_' for e in bits)"
   ]
  },
  {
   "cell_type": "code",
   "execution_count": 23,
   "metadata": {},
   "outputs": [
    {
     "name": "stdout",
     "output_type": "stream",
     "text": [
      "a: _11_1_1__11___11_1___111_1111_111____11______11111111_111_11__11__11__1___1111_1111__1_11_____1_111_\n",
      "b: __1_1_111____1___1_1_11__1111_111___111_1___11111___1___1_____11__11_11_1__11__1111_____1_11__1_11_1\n",
      "x: _1_11_11111__11___1111___1_11_____111_1_1_111______1__11_1_11_1__1__11__1_1__11_11_1_1111111_1_11111\n",
      "y: 111_11__1_1__11____1__11__1__11111_111_11____1_1_111_1111__1_1_______1_11_1__1_1____11_1_1111_____11\n",
      "(a XOR b) == (x AND y):\n",
      "   1111_11_1_11111_1111111_11111111111_11111111_1111__1111111_111111111111111111111111111111_1111111111\n",
      "Win rate: 85.366%\n"
     ]
    }
   ],
   "source": [
    "# Print data.\n",
    "print('a:', bitstring(a[:100]))\n",
    "print('b:', bitstring(b[:100]))\n",
    "print('x:', bitstring(x[:100]))\n",
    "print('y:', bitstring(y[:100]))\n",
    "print('(a XOR b) == (x AND y):\\n  ', bitstring(outcomes[:100]))\n",
    "print('Win rate: {}%'.format(win_percent))"
   ]
  },
  {
   "cell_type": "code",
   "execution_count": 24,
   "metadata": {},
   "outputs": [
    {
     "data": {
      "text/plain": [
       "0.8535533905932737"
      ]
     },
     "execution_count": 24,
     "metadata": {},
     "output_type": "execute_result"
    }
   ],
   "source": [
    "# Theoretical win rate\n",
    "np.cos(np.pi/8)**2"
   ]
  },
  {
   "cell_type": "code",
   "execution_count": null,
   "metadata": {},
   "outputs": [],
   "source": []
  }
 ],
 "metadata": {
  "kernelspec": {
   "display_name": "Python 3",
   "language": "python",
   "name": "python3"
  },
  "language_info": {
   "codemirror_mode": {
    "name": "ipython",
    "version": 3
   },
   "file_extension": ".py",
   "mimetype": "text/x-python",
   "name": "python",
   "nbconvert_exporter": "python",
   "pygments_lexer": "ipython3",
   "version": "3.7.3"
  }
 },
 "nbformat": 4,
 "nbformat_minor": 4
}
