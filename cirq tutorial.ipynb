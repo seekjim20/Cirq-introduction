{
 "cells": [
  {
   "cell_type": "markdown",
   "metadata": {},
   "source": [
    "Reference:\n",
    "    https://cirq.readthedocs.io/en/stable/tutorial.html "
   ]
  },
  {
   "cell_type": "code",
   "execution_count": 46,
   "metadata": {},
   "outputs": [
    {
     "data": {
      "text/plain": [
       "'0.7.0'"
      ]
     },
     "execution_count": 46,
     "metadata": {},
     "output_type": "execute_result"
    }
   ],
   "source": [
    "import cirq\n",
    "cirq.__version__"
   ]
  },
  {
   "cell_type": "markdown",
   "metadata": {},
   "source": [
    "## Basics"
   ]
  },
  {
   "cell_type": "code",
   "execution_count": 2,
   "metadata": {},
   "outputs": [],
   "source": [
    "# define the dimension of the grid\n",
    "length = 3"
   ]
  },
  {
   "cell_type": "code",
   "execution_count": 3,
   "metadata": {},
   "outputs": [
    {
     "name": "stdout",
     "output_type": "stream",
     "text": [
      "[cirq.GridQubit(0, 0), cirq.GridQubit(0, 1), cirq.GridQubit(0, 2), cirq.GridQubit(1, 0), cirq.GridQubit(1, 1), cirq.GridQubit(1, 2), cirq.GridQubit(2, 0), cirq.GridQubit(2, 1), cirq.GridQubit(2, 2)]\n"
     ]
    }
   ],
   "source": [
    "# define qubits\n",
    "qubits = [cirq.GridQubit(i,j) for i in range(length) for j in range(length)]\n",
    "print(qubits)"
   ]
  },
  {
   "cell_type": "code",
   "execution_count": 4,
   "metadata": {},
   "outputs": [
    {
     "name": "stdout",
     "output_type": "stream",
     "text": [
      "(0, 0): ───H───\n",
      "\n",
      "(0, 1): ───X───\n",
      "\n",
      "(0, 2): ───H───\n",
      "\n",
      "(1, 0): ───X───\n",
      "\n",
      "(1, 1): ───H───\n",
      "\n",
      "(1, 2): ───X───\n",
      "\n",
      "(2, 0): ───H───\n",
      "\n",
      "(2, 1): ───X───\n",
      "\n",
      "(2, 2): ───H───\n"
     ]
    }
   ],
   "source": [
    "# define circuit\n",
    "circuit = cirq.Circuit()\n",
    "circuit.append(cirq.H(q) for q in qubits if (q.row + q.col) % 2 == 0)\n",
    "circuit.append(cirq.X(q) for q in qubits if (q.row + q.col) % 2 == 1)\n",
    "print(circuit)"
   ]
  },
  {
   "cell_type": "code",
   "execution_count": 5,
   "metadata": {},
   "outputs": [
    {
     "name": "stdout",
     "output_type": "stream",
     "text": [
      "Moment 0: H((0, 0)) and H((0, 2)) and H((1, 1)) and H((2, 0)) and H((2, 2))\n",
      "Moment 1: X((0, 1)) and X((1, 0)) and X((1, 2)) and X((2, 1))\n"
     ]
    }
   ],
   "source": [
    "# alternative insert strategy\n",
    "circuit = cirq.Circuit()\n",
    "circuit.append((cirq.H(q) for q in qubits if (q.row + q.col) % 2 == 0), \n",
    "               strategy=cirq.InsertStrategy.EARLIEST)\n",
    "circuit.append((cirq.X(q) for q in qubits if (q.row + q.col) % 2 == 1), \n",
    "               strategy=cirq.InsertStrategy.NEW_THEN_INLINE)\n",
    "for i, m in enumerate(circuit):\n",
    "    print('Moment {}: {}'.format(i, m))"
   ]
  },
  {
   "cell_type": "code",
   "execution_count": 6,
   "metadata": {},
   "outputs": [],
   "source": [
    "def rot_x_layer(length, half_turns):\n",
    "    rot = cirq.XPowGate(exponent=half_turns)\n",
    "    # rot = cos(half_turns * pi) I + i sin(half_turns * pi) X\n",
    "    for i in range(length):\n",
    "        for j in range(length):\n",
    "            yield rot(cirq.GridQubit(i,j))"
   ]
  },
  {
   "cell_type": "code",
   "execution_count": 7,
   "metadata": {},
   "outputs": [
    {
     "name": "stdout",
     "output_type": "stream",
     "text": [
      "(0, 0): ───X^0.1───\n",
      "\n",
      "(0, 1): ───X^0.1───\n",
      "\n",
      "(1, 0): ───X^0.1───\n",
      "\n",
      "(1, 1): ───X^0.1───\n"
     ]
    }
   ],
   "source": [
    "circuit = cirq.Circuit()\n",
    "circuit.append(rot_x_layer(2, 0.1))\n",
    "print(circuit)"
   ]
  },
  {
   "cell_type": "markdown",
   "metadata": {},
   "source": [
    "## VQE"
   ]
  },
  {
   "cell_type": "markdown",
   "metadata": {},
   "source": [
    "### Setting up problem definition"
   ]
  },
  {
   "cell_type": "code",
   "execution_count": 8,
   "metadata": {},
   "outputs": [],
   "source": [
    "import numpy as np"
   ]
  },
  {
   "cell_type": "code",
   "execution_count": 9,
   "metadata": {},
   "outputs": [],
   "source": [
    "def rand2d(nrows, ncols):\n",
    "    return np.random.choice([-1, 1], size=(nrows, ncols))"
   ]
  },
  {
   "cell_type": "code",
   "execution_count": 10,
   "metadata": {},
   "outputs": [],
   "source": [
    "def random_instance(length):\n",
    "    # transverse field terms\n",
    "    h = rand2d(length, length)\n",
    "    # links within a row\n",
    "    jr = rand2d(length, length-1)\n",
    "    # links within a column\n",
    "    jc = rand2d(length-1, length)\n",
    "    return (h, jr, jc)"
   ]
  },
  {
   "cell_type": "code",
   "execution_count": 11,
   "metadata": {},
   "outputs": [],
   "source": [
    "h, jr, jc = random_instance(3)"
   ]
  },
  {
   "cell_type": "markdown",
   "metadata": {},
   "source": [
    "### Setting up quantum circuit"
   ]
  },
  {
   "cell_type": "code",
   "execution_count": 12,
   "metadata": {},
   "outputs": [],
   "source": [
    "def rot_z_layer(h, half_turns):\n",
    "    \"\"\"Yields Z rotations by half_turns conditioned on the field h.\"\"\"\n",
    "    gate = cirq.ZPowGate(exponent=half_turns)\n",
    "    for i, h_row in enumerate(h):\n",
    "        for j, h_ij in enumerate(h_row):\n",
    "            if h_ij == 1:\n",
    "                yield gate(cirq.GridQubit(i, j))"
   ]
  },
  {
   "cell_type": "code",
   "execution_count": 13,
   "metadata": {},
   "outputs": [],
   "source": [
    "def rot_11_layer(jr, jc, half_turns):\n",
    "    \"\"\"Yields rotations about |11> conditioned on the jr and jc fields.\"\"\"\n",
    "    gate = cirq.CZPowGate(exponent=half_turns)    \n",
    "    for i, jr_row in enumerate(jr):\n",
    "        for j, jr_ij in enumerate(jr_row):\n",
    "            if jr_ij == -1:\n",
    "                yield cirq.X(cirq.GridQubit(i, j))\n",
    "                yield cirq.X(cirq.GridQubit(i, j+1))\n",
    "                \n",
    "            yield gate(cirq.GridQubit(i, j),\n",
    "                       cirq.GridQubit(i, j+1))\n",
    "            \n",
    "            if jr_ij == -1:\n",
    "                yield cirq.X(cirq.GridQubit(i, j))\n",
    "                yield cirq.X(cirq.GridQubit(i, j+1))\n",
    "\n",
    "    for i, jc_row in enumerate(jc):\n",
    "        for j, jc_ij in enumerate(jc_row):\n",
    "            if jc_ij == -1:\n",
    "                yield cirq.X(cirq.GridQubit(i, j))\n",
    "                yield cirq.X(cirq.GridQubit(i+1, j))\n",
    "            yield gate(cirq.GridQubit(i, j),\n",
    "                       cirq.GridQubit(i+1, j))\n",
    "            if jc_ij == -1:\n",
    "                yield cirq.X(cirq.GridQubit(i, j))\n",
    "                yield cirq.X(cirq.GridQubit(i+1, j))"
   ]
  },
  {
   "cell_type": "code",
   "execution_count": 14,
   "metadata": {},
   "outputs": [],
   "source": [
    "def create_ansatz(h, jr, jc, x_half_turns, h_half_turns, j_half_turns):\n",
    "    yield rot_x_layer(len(h), x_half_turns)\n",
    "    yield rot_z_layer(h, h_half_turns)\n",
    "    yield rot_11_layer(jr, jc, j_half_turns)"
   ]
  },
  {
   "cell_type": "code",
   "execution_count": 15,
   "metadata": {},
   "outputs": [],
   "source": [
    "circuit = cirq.Circuit()\n",
    "circuit.append(create_ansatz(h, jr, jc, 0.1, 0.2, 0.3))"
   ]
  },
  {
   "cell_type": "markdown",
   "metadata": {},
   "source": [
    "### Run Simulator"
   ]
  },
  {
   "cell_type": "code",
   "execution_count": 16,
   "metadata": {},
   "outputs": [],
   "source": [
    "simulator = cirq.Simulator()"
   ]
  },
  {
   "cell_type": "code",
   "execution_count": 17,
   "metadata": {},
   "outputs": [
    {
     "name": "stdout",
     "output_type": "stream",
     "text": [
      "CPU times: user 16.1 ms, sys: 2.57 ms, total: 18.7 ms\n",
      "Wall time: 16.8 ms\n"
     ]
    }
   ],
   "source": [
    "%time result = simulator.simulate(circuit)"
   ]
  },
  {
   "cell_type": "code",
   "execution_count": 18,
   "metadata": {
    "scrolled": true
   },
   "outputs": [
    {
     "name": "stdout",
     "output_type": "stream",
     "text": [
      "[-0.797-0.406j  0.14 +0.022j  0.1  -0.1j   -0.022+0.004j  0.1  +0.1j\n",
      " -0.02 -0.01j  -0.02 -0.01j   0.002+0.003j  0.064+0.126j  0.004-0.022j\n",
      " -0.022+0.004j  0.001+0.004j -0.004-0.022j -0.002+0.003j  0.002+0.003j\n",
      "  0.001-0.j     0.14 -0.022j -0.02 +0.01j  -0.02 +0.01j   0.004+0.001j\n",
      " -0.022-0.004j  0.004-0.001j  0.003+0.003j -0.   -0.001j -0.004-0.022j\n",
      " -0.002+0.003j  0.002+0.003j  0.001-0.j    -0.001+0.004j  0.   -0.j\n",
      "  0.   -0.j    -0.   -0.j     0.1  -0.1j   -0.01 +0.02j   0.01 +0.02j\n",
      "  0.001-0.004j -0.02 -0.01j   0.004+0.001j  0.004+0.001j -0.   -0.j\n",
      " -0.022+0.004j  0.003+0.002j  0.001-0.004j -0.001-0.j     0.002+0.003j\n",
      "  0.   -0.001j -0.   -0.j    -0.   +0.j    -0.02 +0.01j   0.003-0.003j\n",
      "  0.003-0.003j -0.001+0.j     0.003+0.003j -0.001-0.j    -0.   -0.001j\n",
      " -0.   +0.j     0.002+0.003j  0.   -0.001j -0.   -0.j    -0.   +0.j\n",
      "  0.   -0.j    -0.   +0.j    -0.   +0.j     0.   +0.j     0.064+0.126j\n",
      " -0.016-0.016j -0.022+0.004j  0.003+0.002j -0.004-0.022j  0.002+0.003j\n",
      "  0.002+0.003j  0.   -0.001j  0.02 -0.01j  -0.004-0.001j  0.001+0.004j\n",
      "  0.001-0.j    -0.004+0.001j  0.001+0.j     0.001-0.j    -0.   -0.j\n",
      " -0.02 -0.01j   0.004+0.001j  0.004+0.001j -0.   -0.j     0.003+0.003j\n",
      " -0.001-0.j    -0.   -0.001j -0.   +0.j    -0.004+0.001j  0.001+0.j\n",
      "  0.001-0.j    -0.   -0.j     0.001+0.j    -0.   -0.j    -0.   -0.j\n",
      " -0.   +0.j    -0.022+0.004j  0.003-0.002j  0.001-0.004j -0.   +0.j\n",
      "  0.002+0.003j -0.   -0.j    -0.   -0.j     0.   +0.j     0.001+0.004j\n",
      "  0.   -0.001j -0.001-0.j    -0.   +0.j     0.001-0.j    -0.   -0.j\n",
      " -0.   +0.j     0.   +0.j     0.004+0.001j -0.001+0.j    -0.001+0.j\n",
      "  0.   +0.j    -0.   -0.001j  0.   +0.j    -0.   +0.j     0.   -0.j\n",
      "  0.001-0.j    -0.   -0.j    -0.   +0.j     0.   +0.j    -0.   -0.j\n",
      "  0.   +0.j     0.   +0.j     0.   -0.j     0.1  +0.1j   -0.02 -0.01j\n",
      " -0.02 +0.01j   0.004+0.001j -0.01 -0.02j   0.003+0.003j  0.003+0.003j\n",
      " -0.   -0.001j -0.004-0.022j -0.002+0.003j  0.004+0.001j  0.   -0.001j\n",
      " -0.001+0.004j  0.   -0.j    -0.   -0.001j -0.   +0.j    -0.01 -0.02j\n",
      "  0.003+0.003j  0.003+0.003j -0.   -0.001j  0.001+0.004j -0.   -0.001j\n",
      "  0.   -0.001j -0.   +0.j    -0.003+0.002j  0.001+0.j     0.   -0.j\n",
      " -0.   -0.j     0.001-0.j    -0.   -0.j    -0.   -0.j    -0.   +0.j\n",
      " -0.02 +0.01j   0.003-0.003j -0.001-0.004j -0.   +0.001j  0.003+0.003j\n",
      " -0.001-0.j    -0.001-0.j     0.   +0.j     0.004+0.001j -0.   -0.j\n",
      " -0.   +0.001j  0.   +0.j    -0.   -0.001j -0.   +0.j     0.   +0.j\n",
      "  0.   -0.j     0.003+0.003j -0.001-0.j    -0.001-0.j     0.   +0.j\n",
      "  0.   -0.001j -0.   +0.j    -0.   +0.j     0.   +0.j     0.   -0.j\n",
      " -0.   +0.j    -0.   +0.j     0.   +0.j    -0.   -0.j     0.   +0.j\n",
      "  0.   +0.j     0.   -0.j     0.016-0.016j -0.002+0.003j  0.002+0.003j\n",
      "  0.   -0.001j -0.003+0.002j  0.   -0.j     0.   -0.j    -0.   +0.j\n",
      " -0.003-0.003j  0.   +0.001j  0.001-0.j    -0.   -0.j     0.   +0.001j\n",
      "  0.   -0.j    -0.   -0.j    -0.   +0.j    -0.003+0.002j  0.   -0.j\n",
      "  0.   -0.j    -0.   +0.j     0.001-0.j    -0.   +0.j    -0.   -0.j\n",
      "  0.   +0.j    -0.   +0.001j  0.   -0.j     0.   -0.j    -0.   -0.j\n",
      "  0.   -0.j    -0.   +0.j    -0.   +0.j     0.   +0.j     0.002+0.003j\n",
      " -0.   -0.j    -0.001+0.j     0.   +0.j     0.   -0.j    -0.   +0.j\n",
      " -0.   +0.j     0.   -0.j     0.001-0.j    -0.   -0.j     0.   +0.j\n",
      "  0.   -0.j    -0.   -0.j     0.   +0.j     0.   +0.j     0.   -0.j\n",
      "  0.   -0.j    -0.   +0.j    -0.   +0.j     0.   -0.j    -0.   -0.j\n",
      "  0.   +0.j     0.   +0.j     0.   -0.j     0.   -0.j    -0.   +0.j\n",
      "  0.   +0.j     0.   -0.j    -0.   +0.j     0.   +0.j     0.   +0.j\n",
      "  0.   -0.j    -0.022+0.14j  -0.004-0.022j -0.02 -0.01j   0.002+0.003j\n",
      "  0.01 -0.02j  -0.001+0.004j -0.001+0.004j  0.   -0.j     0.016-0.016j\n",
      " -0.004+0.001j  0.002+0.003j  0.001-0.j    -0.003+0.002j  0.001+0.j\n",
      "  0.   -0.j    -0.   -0.j    -0.01 -0.02j   0.003+0.003j  0.003+0.003j\n",
      " -0.   -0.001j  0.001+0.004j -0.   -0.001j  0.   -0.001j -0.   +0.j\n",
      " -0.003+0.002j  0.001+0.j     0.   -0.j    -0.   -0.j     0.001-0.j\n",
      " -0.   -0.j    -0.   -0.j    -0.   +0.j    -0.004-0.022j  0.002+0.003j\n",
      "  0.004+0.001j -0.   -0.j    -0.003+0.002j  0.   -0.j     0.   -0.j\n",
      " -0.   +0.j    -0.002+0.003j  0.001-0.j    -0.   -0.j    -0.   +0.j\n",
      "  0.001+0.j    -0.   -0.j    -0.   +0.j     0.   +0.j    -0.001+0.004j\n",
      " -0.   -0.001j -0.   -0.001j -0.   +0.j     0.001-0.j    -0.   +0.j\n",
      " -0.   -0.j     0.   +0.j     0.001+0.j    -0.   -0.j    -0.   +0.j\n",
      "  0.   +0.j    -0.   -0.j    -0.   +0.j    -0.   +0.j     0.   +0.j\n",
      "  0.016-0.016j -0.002+0.003j  0.002+0.003j  0.   -0.001j -0.003+0.002j\n",
      "  0.   -0.j     0.   -0.j    -0.   +0.j    -0.003-0.003j  0.   +0.001j\n",
      "  0.001-0.j    -0.   -0.j     0.   +0.001j  0.   -0.j    -0.   -0.j\n",
      " -0.   +0.j    -0.001+0.004j -0.   -0.001j -0.   -0.001j -0.   +0.j\n",
      "  0.   -0.001j -0.   +0.j    -0.   +0.j     0.   +0.j     0.   +0.001j\n",
      "  0.   -0.j    -0.   -0.j    -0.   +0.j    -0.   -0.j    -0.   +0.j\n",
      " -0.   +0.j     0.   +0.j    -0.002+0.003j  0.   -0.001j -0.   -0.j\n",
      "  0.   +0.j     0.001+0.j    -0.   +0.j    -0.   +0.j     0.   +0.j\n",
      "  0.001+0.j    -0.   -0.j    -0.   +0.j     0.   +0.j     0.   -0.j\n",
      " -0.   +0.j     0.   +0.j     0.   -0.j     0.   -0.j    -0.   +0.j\n",
      " -0.   +0.j     0.   -0.j    -0.   -0.j     0.   +0.j     0.   +0.j\n",
      "  0.   -0.j     0.   -0.j    -0.   +0.j     0.   +0.j     0.   -0.j\n",
      " -0.   +0.j     0.   +0.j     0.   +0.j     0.   -0.j     0.022-0.004j\n",
      " -0.003+0.002j -0.001+0.004j  0.   -0.j    -0.004-0.001j  0.001-0.j\n",
      "  0.001-0.j    -0.   -0.j    -0.003-0.002j  0.   +0.001j  0.   -0.j\n",
      " -0.   -0.j     0.   +0.j    -0.   -0.j    -0.   -0.j    -0.   +0.j\n",
      " -0.004-0.001j  0.001-0.j     0.001-0.j    -0.   -0.j     0.001+0.j\n",
      " -0.   -0.j    -0.   -0.j    -0.   +0.j    -0.   +0.001j  0.   -0.j\n",
      " -0.   -0.j    -0.   +0.j     0.   -0.j    -0.   +0.j    -0.   +0.j\n",
      "  0.   +0.j    -0.003+0.002j  0.   -0.j    -0.   -0.001j -0.   +0.j\n",
      "  0.   +0.j    -0.   -0.j    -0.   -0.j     0.   +0.j     0.001+0.j\n",
      " -0.   -0.j    -0.   +0.j     0.   +0.j    -0.   -0.j    -0.   +0.j\n",
      "  0.   +0.j     0.   -0.j     0.   +0.j    -0.   -0.j    -0.   -0.j\n",
      "  0.   +0.j     0.   -0.j    -0.   +0.j    -0.   +0.j     0.   +0.j\n",
      "  0.   -0.j    -0.   +0.j    -0.   +0.j     0.   +0.j    -0.   -0.j\n",
      "  0.   +0.j     0.   +0.j     0.   -0.j    -0.001-0.004j  0.   +0.001j\n",
      "  0.001+0.j    -0.   -0.j    -0.   +0.001j -0.   -0.j    -0.   -0.j\n",
      " -0.   +0.j    -0.001+0.j     0.   +0.j     0.   -0.j    -0.   -0.j\n",
      "  0.   +0.j    -0.   -0.j    -0.   +0.j     0.   +0.j    -0.   +0.001j\n",
      " -0.   -0.j    -0.   -0.j    -0.   +0.j     0.   -0.j    -0.   +0.j\n",
      " -0.   +0.j     0.   +0.j     0.   +0.j     0.   -0.j    -0.   -0.j\n",
      " -0.   +0.j    -0.   -0.j    -0.   +0.j    -0.   +0.j     0.   +0.j\n",
      "  0.   +0.001j -0.   -0.j    -0.   +0.j     0.   +0.j     0.   -0.j\n",
      " -0.   +0.j    -0.   +0.j     0.   -0.j     0.   -0.j    -0.   -0.j\n",
      "  0.   +0.j     0.   -0.j    -0.   -0.j     0.   +0.j     0.   +0.j\n",
      "  0.   -0.j     0.   -0.j    -0.   +0.j    -0.   +0.j     0.   -0.j\n",
      " -0.   -0.j     0.   +0.j     0.   +0.j     0.   -0.j     0.   -0.j\n",
      " -0.   +0.j     0.   +0.j     0.   -0.j    -0.   +0.j     0.   +0.j\n",
      "  0.   +0.j     0.   -0.j   ]\n"
     ]
    }
   ],
   "source": [
    "print(np.around(result.final_state, 3))"
   ]
  },
  {
   "cell_type": "code",
   "execution_count": 19,
   "metadata": {},
   "outputs": [],
   "source": [
    "circuit.append(cirq.measure(*qubits, key='x'))"
   ]
  },
  {
   "cell_type": "code",
   "execution_count": 20,
   "metadata": {},
   "outputs": [
    {
     "name": "stdout",
     "output_type": "stream",
     "text": [
      "CPU times: user 157 ms, sys: 2.9 ms, total: 160 ms\n",
      "Wall time: 161 ms\n"
     ]
    }
   ],
   "source": [
    "%time result = simulator.run(circuit, repetitions=10000)"
   ]
  },
  {
   "cell_type": "code",
   "execution_count": 21,
   "metadata": {},
   "outputs": [
    {
     "name": "stdout",
     "output_type": "stream",
     "text": [
      "Counter({0: 7975, 8: 232, 64: 228, 4: 208, 128: 199, 256: 198, 2: 197, 32: 197, 16: 189, 1: 186, 80: 9, 20: 8, 160: 8, 33: 7, 144: 7, 130: 7, 96: 7, 68: 7, 34: 7, 320: 7, 6: 6, 72: 6, 36: 6, 9: 6, 129: 5, 48: 5, 260: 5, 12: 5, 264: 5, 136: 5, 384: 5, 288: 5, 18: 5, 24: 4, 192: 4, 5: 4, 132: 4, 66: 4, 258: 4, 257: 3, 10: 3, 272: 3, 40: 2, 17: 2, 65: 2, 164: 1, 42: 1, 88: 1, 41: 1, 14: 1, 81: 1, 3: 1, 276: 1, 336: 1})\n"
     ]
    }
   ],
   "source": [
    "print(result.histogram(key='x'))"
   ]
  },
  {
   "cell_type": "code",
   "execution_count": 22,
   "metadata": {},
   "outputs": [],
   "source": [
    "def energy_func(h, jr, jc):\n",
    "    def calc(measurements):\n",
    "        zs = 1 - 2*measurements.reshape(*h.shape).astype(np.int8)\n",
    "        tot_energy = np.sum(h * zs)\n",
    "        for i, jr_row in enumerate(jr):\n",
    "            for j, jr_ij in enumerate(jr_row):\n",
    "                tot_energy += jr_ij * zs[i, j] * zs[i, j+1]\n",
    "        for i, jc_row in enumerate(jc):\n",
    "            for j, jc_ij in enumerate(jc_row):\n",
    "                tot_energy += jc_ij * zs[i, j] * zs[i+1, j]\n",
    "        return tot_energy\n",
    "    return calc"
   ]
  },
  {
   "cell_type": "code",
   "execution_count": 23,
   "metadata": {},
   "outputs": [
    {
     "name": "stdout",
     "output_type": "stream",
     "text": [
      "Counter({-7: 8426, -5: 652, 1: 422, -1: 229, -9: 214, -3: 27, 3: 14, 9: 8, 7: 7, 5: 1})\n"
     ]
    }
   ],
   "source": [
    "print(result.histogram(key='x', fold_func=energy_func(h, jr, jc)))"
   ]
  },
  {
   "cell_type": "code",
   "execution_count": 24,
   "metadata": {},
   "outputs": [],
   "source": [
    "def obj_func(result):\n",
    "    energy_hist = result.histogram(key='x', fold_func=energy_func(h, jr, jc))\n",
    "    return np.sum([k * v for k,v in energy_hist.items()]) / result.repetitions"
   ]
  },
  {
   "cell_type": "code",
   "execution_count": 27,
   "metadata": {},
   "outputs": [
    {
     "name": "stdout",
     "output_type": "stream",
     "text": [
      "Value of the objective function = -6.3888\n"
     ]
    }
   ],
   "source": [
    "print('Value of the objective function = {}'.format(obj_func(result)))"
   ]
  },
  {
   "cell_type": "markdown",
   "metadata": {},
   "source": [
    "### Parameterize the Ansatz"
   ]
  },
  {
   "cell_type": "code",
   "execution_count": 28,
   "metadata": {},
   "outputs": [],
   "source": [
    "import sympy\n",
    "alpha = sympy.Symbol('alpha')\n",
    "beta = sympy.Symbol('beta')\n",
    "gamma = sympy.Symbol('gamma')"
   ]
  },
  {
   "cell_type": "code",
   "execution_count": 29,
   "metadata": {},
   "outputs": [],
   "source": [
    "circuit = cirq.Circuit()\n",
    "circuit.append(create_ansatz(h, jr, jc, alpha, beta, gamma))\n",
    "circuit.append(cirq.measure(*qubits, key='x'))"
   ]
  },
  {
   "cell_type": "code",
   "execution_count": 30,
   "metadata": {},
   "outputs": [],
   "source": [
    "resolver = cirq.ParamResolver({'alpha': 0.1, 'beta': 0.2, 'gamma': 0.3})\n",
    "resolved_circuit = cirq.resolve_parameters(circuit, resolver)"
   ]
  },
  {
   "cell_type": "code",
   "execution_count": 31,
   "metadata": {},
   "outputs": [
    {
     "data": {
      "text/plain": [
       "-6.3966"
      ]
     },
     "execution_count": 31,
     "metadata": {},
     "output_type": "execute_result"
    }
   ],
   "source": [
    "obj_func(simulator.run(resolved_circuit, repetitions=10000))"
   ]
  },
  {
   "cell_type": "markdown",
   "metadata": {},
   "source": [
    "### Optimization"
   ]
  },
  {
   "cell_type": "code",
   "execution_count": 32,
   "metadata": {},
   "outputs": [],
   "source": [
    "from scipy.optimize import minimize\n",
    "import sys"
   ]
  },
  {
   "cell_type": "code",
   "execution_count": 33,
   "metadata": {},
   "outputs": [],
   "source": [
    "def fom(ps):\n",
    "    resolver = cirq.ParamResolver(dict(zip(['alpha', 'beta', 'gamma'], ps)))\n",
    "    resolved_circuit = cirq.resolve_parameters(circuit, resolver)\n",
    "    return obj_func(simulator.run(resolved_circuit, repetitions=100000))"
   ]
  },
  {
   "cell_type": "code",
   "execution_count": 34,
   "metadata": {},
   "outputs": [],
   "source": [
    "def callback(ps):\n",
    "    print(ps, fom(ps), file=sys.stderr)"
   ]
  },
  {
   "cell_type": "code",
   "execution_count": 35,
   "metadata": {},
   "outputs": [
    {
     "name": "stdout",
     "output_type": "stream",
     "text": [
      "CPU times: user 9.65 s, sys: 144 ms, total: 9.8 s\n",
      "Wall time: 9.76 s\n"
     ]
    },
    {
     "data": {
      "text/plain": [
       "-6.38106"
      ]
     },
     "execution_count": 35,
     "metadata": {},
     "output_type": "execute_result"
    }
   ],
   "source": [
    "%time fom([0.1, 0.2, 0.3])"
   ]
  },
  {
   "cell_type": "code",
   "execution_count": 36,
   "metadata": {},
   "outputs": [
    {
     "name": "stderr",
     "output_type": "stream",
     "text": [
      "[2.77555756e-17 2.66666667e-01 3.66666667e-01] -7.0\n",
      "[2.77555756e-17 2.66666667e-01 3.66666667e-01] -7.0\n",
      "[2.77555756e-17 2.66666667e-01 3.66666667e-01] -7.0\n",
      "[2.77555756e-17 2.66666667e-01 3.66666667e-01] -7.0\n",
      "[2.77555756e-17 2.66666667e-01 3.66666667e-01] -7.0\n",
      "[2.77555756e-17 2.66666667e-01 3.66666667e-01] -7.0\n",
      "[2.77555756e-17 2.66666667e-01 3.66666667e-01] -7.0\n",
      "[2.77555756e-17 2.66666667e-01 3.66666667e-01] -7.0\n"
     ]
    },
    {
     "name": "stdout",
     "output_type": "stream",
     "text": [
      "Warning: Maximum number of iterations has been exceeded.\n"
     ]
    },
    {
     "name": "stderr",
     "output_type": "stream",
     "text": [
      "[2.77555756e-17 2.66666667e-01 3.66666667e-01] -7.0\n"
     ]
    }
   ],
   "source": [
    "res = minimize(\n",
    "    fun      = fom,\n",
    "    callback = callback,\n",
    "    x0       = [0.1, 0.2, 0.3],\n",
    "    method   = 'Nelder-Mead',\n",
    "    options  = {'disp'   : 1,\n",
    "                'maxiter': 10,\n",
    "                'initial_simplex': [\n",
    "                    [0.1, 0.2, 0.3],\n",
    "                    [0.2, 0.2, 0.3],\n",
    "                    [0.1, 0.3, 0.3],\n",
    "                    [0.1, 0.2, 0.4],\n",
    "                ],\n",
    "                'xatol'  : 1e-2,\n",
    "                'fatol'  : 3e-3\n",
    "                }\n",
    ")"
   ]
  },
  {
   "cell_type": "code",
   "execution_count": 37,
   "metadata": {},
   "outputs": [
    {
     "name": "stdout",
     "output_type": "stream",
     "text": [
      " final_simplex: (array([[ 2.77555756e-17,  2.66666667e-01,  3.66666667e-01],\n",
      "       [ 2.96210562e-03,  2.07580304e-01,  3.67388260e-01],\n",
      "       [ 3.19144376e-03,  2.40342793e-01,  3.92263232e-01],\n",
      "       [-7.69032922e-03,  2.13846022e-01,  3.68990055e-01]]), array([-7.     , -6.99918, -6.99898, -6.99596]))\n",
      "           fun: -7.0\n",
      "       message: 'Maximum number of iterations has been exceeded.'\n",
      "          nfev: 20\n",
      "           nit: 10\n",
      "        status: 2\n",
      "       success: False\n",
      "             x: array([2.77555756e-17, 2.66666667e-01, 3.66666667e-01])\n"
     ]
    }
   ],
   "source": [
    "print(res)"
   ]
  },
  {
   "cell_type": "code",
   "execution_count": 38,
   "metadata": {},
   "outputs": [
    {
     "name": "stderr",
     "output_type": "stream",
     "text": [
      "[-0.07889059  0.21762684  0.32715408] -6.60812\n",
      "[-0.00331656  0.22292467  0.32884135] -6.99918\n",
      "[-0.00331656  0.22292467  0.32884135] -6.99932\n"
     ]
    }
   ],
   "source": [
    "res1 = minimize(\n",
    "    fun      = fom,\n",
    "    callback = callback,\n",
    "    x0       = [0.1, 0.2, 0.3],\n",
    "    method   = 'L-BFGS-B',\n",
    "    options  = {'disp'   : 1,\n",
    "                'maxiter': 10,\n",
    "                'ftol'   : 3e-3,\n",
    "                'eps'    : 1e-2\n",
    "                }\n",
    ")"
   ]
  },
  {
   "cell_type": "code",
   "execution_count": 39,
   "metadata": {},
   "outputs": [
    {
     "data": {
      "text/plain": [
       "      fun: -6.99944\n",
       " hess_inv: <3x3 LbfgsInvHessProduct with dtype=float64>\n",
       "      jac: array([ 0.236, -0.01 , -0.006])\n",
       "  message: b'CONVERGENCE: REL_REDUCTION_OF_F_<=_FACTR*EPSMCH'\n",
       "     nfev: 44\n",
       "      nit: 3\n",
       "   status: 0\n",
       "  success: True\n",
       "        x: array([-0.00331656,  0.22292467,  0.32884135])"
      ]
     },
     "execution_count": 39,
     "metadata": {},
     "output_type": "execute_result"
    }
   ],
   "source": [
    "res1"
   ]
  },
  {
   "cell_type": "markdown",
   "metadata": {},
   "source": [
    "## Others"
   ]
  },
  {
   "cell_type": "markdown",
   "metadata": {},
   "source": [
    "### Interfacing with QASM format"
   ]
  },
  {
   "cell_type": "code",
   "execution_count": 40,
   "metadata": {},
   "outputs": [
    {
     "name": "stdout",
     "output_type": "stream",
     "text": [
      "q_0: ───H───M('meas_0')───\n",
      "\n",
      "q_1: ───H───M('meas_1')───\n",
      "\n",
      "q_2: ───H───M('meas_2')───\n"
     ]
    }
   ],
   "source": [
    "from cirq.contrib.qasm_import import circuit_from_qasm\n",
    "circuit = circuit_from_qasm(\"\"\"\n",
    "    OPENQASM 2.0;\n",
    "    include \"qelib1.inc\";\n",
    "    qreg q[3];\n",
    "    creg meas[3];\n",
    "    h q;\n",
    "    measure q -> meas;\n",
    "    \"\"\")\n",
    "print(circuit)"
   ]
  },
  {
   "cell_type": "markdown",
   "metadata": {},
   "source": [
    "### Monte Carlo simulations of noise"
   ]
  },
  {
   "cell_type": "code",
   "execution_count": 41,
   "metadata": {},
   "outputs": [
    {
     "name": "stdout",
     "output_type": "stream",
     "text": [
      "Counter({0: 772, 1: 228})\n"
     ]
    }
   ],
   "source": [
    "q = cirq.NamedQubit('a')\n",
    "circuit = cirq.Circuit(cirq.bit_flip(p=0.2)(q), cirq.measure(q))\n",
    "simulator = cirq.Simulator()\n",
    "result = simulator.run(circuit, repetitions=1000)\n",
    "print(result.histogram(key='a'))"
   ]
  },
  {
   "cell_type": "code",
   "execution_count": 42,
   "metadata": {},
   "outputs": [
    {
     "name": "stdout",
     "output_type": "stream",
     "text": [
      "Counter({0: 587, 1: 413})\n"
     ]
    }
   ],
   "source": [
    "q = cirq.NamedQubit('a')\n",
    "circuit = cirq.Circuit(cirq.H(q), cirq.amplitude_damp(0.2)(q), cirq.measure(q))\n",
    "simulator = cirq.DensityMatrixSimulator()\n",
    "result = simulator.run(circuit, repetitions=1000)\n",
    "print(result.histogram(key='a'))"
   ]
  },
  {
   "cell_type": "markdown",
   "metadata": {},
   "source": [
    "### Device"
   ]
  },
  {
   "cell_type": "code",
   "execution_count": 43,
   "metadata": {},
   "outputs": [],
   "source": [
    "import cirq\n",
    "from cirq.devices import GridQubit"
   ]
  },
  {
   "cell_type": "code",
   "execution_count": 44,
   "metadata": {},
   "outputs": [],
   "source": [
    "class Xmon10Device(cirq.Device):\n",
    "    def __init__(self):\n",
    "        self.qubits = [GridQubit(i, 0) for i in range(10)]\n",
    "\n",
    "    def validate_operation(self, operation):\n",
    "        if not isinstance(operation, cirq.GateOperation):\n",
    "            raise ValueError('{!r} is not a supported operation'.format(operation))\n",
    "        if not isinstance(operation.gate, (cirq.CZPowGate,\n",
    "                                           cirq.XPowGate,\n",
    "                                           cirq.PhasedXPowGate,\n",
    "                                           cirq.YPowGate)):\n",
    "            raise ValueError('{!r} is not a supported gate'.format(operation.gate))\n",
    "        if len(operation.qubits) == 2:\n",
    "            p, q = operation.qubits\n",
    "            if not p.is_adjacent(q):\n",
    "                raise ValueError('Non-local interaction: {}'.format(repr(operation)))\n",
    "\n",
    "    def validate_circuit(self, circuit):\n",
    "        for moment in circuit:\n",
    "            for operation in moment.operations:\n",
    "                self.validate_operation(operation)"
   ]
  },
  {
   "cell_type": "code",
   "execution_count": 45,
   "metadata": {},
   "outputs": [
    {
     "name": "stdout",
     "output_type": "stream",
     "text": [
      "Non-local interaction: cirq.CZ.on(cirq.GridQubit(0, 0), cirq.GridQubit(2, 0))\n"
     ]
    }
   ],
   "source": [
    "device = Xmon10Device()\n",
    "circuit = cirq.Circuit()\n",
    "circuit.append([cirq.CZ(device.qubits[0], device.qubits[2])])\n",
    "try: \n",
    "    device.validate_circuit(circuit)\n",
    "except ValueError as e:\n",
    "    print(e)"
   ]
  },
  {
   "cell_type": "code",
   "execution_count": null,
   "metadata": {},
   "outputs": [],
   "source": []
  }
 ],
 "metadata": {
  "kernelspec": {
   "display_name": "Python 3",
   "language": "python",
   "name": "python3"
  },
  "language_info": {
   "codemirror_mode": {
    "name": "ipython",
    "version": 3
   },
   "file_extension": ".py",
   "mimetype": "text/x-python",
   "name": "python",
   "nbconvert_exporter": "python",
   "pygments_lexer": "ipython3",
   "version": "3.6.6"
  }
 },
 "nbformat": 4,
 "nbformat_minor": 4
}
