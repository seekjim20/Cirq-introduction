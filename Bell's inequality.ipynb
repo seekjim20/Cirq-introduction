{
 "cells": [
  {
   "cell_type": "markdown",
   "metadata": {},
   "source": [
    "# Creates and simulates a circuit equivalent to a Bell inequality test"
   ]
  },
  {
   "cell_type": "markdown",
   "metadata": {},
   "source": [
    "Referance:\n",
    "https://cirq.readthedocs.io/en/stable/examples.html#bell-inequality"
   ]
  },
  {
   "cell_type": "markdown",
   "metadata": {},
   "source": [
    "\"\"\"\n",
    "=== EXAMPLE OUTPUT ===\n",
    "\n",
    "Circuit:\n",
    "(0, 0): ───H───@───X^-0.25───────X^0.5───M───\n",
    "               │                 │\n",
    "(0, 1): ───────┼─────────────H───@───────M───\n",
    "               │\n",
    "(1, 0): ───────X─────────────────X^0.5───M───\n",
    "                                 │\n",
    "(1, 1): ─────────────────────H───@───────M───\n",
    "\n",
    "Simulating 75 repetitions...\n",
    "\n",
    "Results\n",
    "a: _1__11111___111111_1__1_11_11__111________1___1_111_111_____1111_1_111__1_1\n",
    "b: _1__1__11_1_1_1__1_1_1_1_11____111_111__11_____1_1__1111_1_11___111_11_1__1\n",
    "x: ____11______11111__1_1111111____1_111__1111___1111_1__11_1__11_11_11_1__11_\n",
    "y: 11_111_____1_1_111__11111_111_1____1____11_____11___11_1_1___1_111111_1_1_1\n",
    "(a XOR b) == (x AND y):\n",
    "   1111_1_111_11111111111111111_1111111__1111_111_111_11111111_11_11111111_111\n",
    "Win rate: 84.0%\n",
    "\"\"\""
   ]
  },
  {
   "cell_type": "code",
   "execution_count": 4,
   "metadata": {},
   "outputs": [],
   "source": [
    "import numpy as np\n",
    "import cirq"
   ]
  },
  {
   "cell_type": "code",
   "execution_count": 15,
   "metadata": {},
   "outputs": [],
   "source": [
    "def make_bell_test_circuit():\n",
    "    alice = cirq.GridQubit(0, 0)\n",
    "    bob = cirq.GridQubit(1, 0)\n",
    "    alice_referee = cirq.GridQubit(0, 1)\n",
    "    bob_referee = cirq.GridQubit(1, 1)\n",
    "\n",
    "    circuit = cirq.Circuit()\n",
    "\n",
    "    # Prepare shared entangled state.\n",
    "    circuit.append([\n",
    "        cirq.H(alice),\n",
    "        cirq.CNOT(alice, bob),\n",
    "        cirq.X(alice)**-0.25,\n",
    "    ])\n",
    "\n",
    "    # Referees flip coins.\n",
    "    circuit.append([\n",
    "        cirq.H(alice_referee),\n",
    "        cirq.H(bob_referee),\n",
    "    ], strategy=cirq.InsertStrategy.NEW_THEN_INLINE)\n",
    "\n",
    "    # Players do a sqrt(X) based on their referee's coin.\n",
    "    circuit.append([\n",
    "        cirq.CNOT(alice_referee, alice)**0.5,\n",
    "        cirq.CNOT(bob_referee, bob)**0.5,\n",
    "    ], strategy=cirq.InsertStrategy.NEW_THEN_INLINE)\n",
    "\n",
    "    # Then results are recorded.\n",
    "    circuit.append([\n",
    "        cirq.measure(alice, key='a'),\n",
    "        cirq.measure(bob, key='b'),\n",
    "        cirq.measure(alice_referee, key='x'),\n",
    "        cirq.measure(bob_referee, key='y'),\n",
    "    ], strategy=cirq.InsertStrategy.NEW_THEN_INLINE)\n",
    "\n",
    "    return circuit"
   ]
  },
  {
   "cell_type": "code",
   "execution_count": 16,
   "metadata": {},
   "outputs": [
    {
     "name": "stdout",
     "output_type": "stream",
     "text": [
      "Circuit:\n",
      "(0, 0): ───H───@───X^-0.25───────X───────M('a')───\n",
      "               │                 │\n",
      "(0, 1): ───────┼─────────────H───@^0.5───M('x')───\n",
      "               │\n",
      "(1, 0): ───────X─────────────────X───────M('b')───\n",
      "                                 │\n",
      "(1, 1): ─────────────────────H───@^0.5───M('y')───\n"
     ]
    }
   ],
   "source": [
    "# Create circuit.\n",
    "circuit = make_bell_test_circuit()\n",
    "print('Circuit:')\n",
    "print(circuit)"
   ]
  },
  {
   "cell_type": "code",
   "execution_count": 11,
   "metadata": {},
   "outputs": [
    {
     "name": "stdout",
     "output_type": "stream",
     "text": [
      "Simulating 1000 repetitions...\n"
     ]
    }
   ],
   "source": [
    "# Run simulations.\n",
    "repetitions = 1000\n",
    "print('Simulating {} repetitions...'.format(repetitions))\n",
    "result = cirq.Simulator().run(program=circuit, repetitions=repetitions)"
   ]
  },
  {
   "cell_type": "code",
   "execution_count": 12,
   "metadata": {},
   "outputs": [],
   "source": [
    "# Collect results.\n",
    "a = np.array(result.measurements['a'][:, 0])\n",
    "b = np.array(result.measurements['b'][:, 0])\n",
    "x = np.array(result.measurements['x'][:, 0])\n",
    "y = np.array(result.measurements['y'][:, 0])\n",
    "outcomes = a ^ b == x & y\n",
    "win_percent = len([e for e in outcomes if e]) * 100 / repetitions"
   ]
  },
  {
   "cell_type": "code",
   "execution_count": 6,
   "metadata": {},
   "outputs": [],
   "source": [
    "def bitstring(bits):\n",
    "    return ''.join('1' if e else '_' for e in bits)"
   ]
  },
  {
   "cell_type": "code",
   "execution_count": 14,
   "metadata": {},
   "outputs": [
    {
     "name": "stdout",
     "output_type": "stream",
     "text": [
      "\n",
      "Results\n",
      "(a XOR b) == (x AND y):\n",
      "   _111111111111111111111111_111_111__11111111111111111111_11111111111111111111___11111111111111111111111_111111111111111111111111_1_111111111_1111_1_1_1111111_11111111_11__1111111111111_11111111_111_11_1111_111111111111111111111111111_1_11_1111_1111111111_1111111111111111111_1__1_1111_111111_1111111_1111111_1__11_1111111111111111_11111111111_11111111_11_11111111111111_11111_1111111_111_11111_1_111111111_111_11__1111_1111_1111111__1111111111__11111_11111_11111__1111_111_1_1_1111111_111111_11_1111111111111111_1_11111111111111111111111_11_111_11_1111_111_1111_11_1111_11_11_11111111111_111__11111_1111_111111111111111111_111111_11111111_11_111111_1111_1111111111_111_11111111111111_111111111111111111_1_1_1111_1111_1111_1_1111111111_11111111111111_1111_1__1_11_111111_11_111111111111111111111_1_111111111111111111111111111111_1_1_111_11_111_11111111111_1111_111_1111111111_1_1111111111111111_1111111111111111111111111111111111_111_11111111_1_11__1111111_11111_111_111111111_1_111_111111111111111___1\n",
      "Win rate: 85.6%\n"
     ]
    }
   ],
   "source": [
    "# Print data.\n",
    "print()\n",
    "print('Results')\n",
    "# print('a:', bitstring(a))\n",
    "# print('b:', bitstring(b))\n",
    "# print('x:', bitstring(x))\n",
    "# print('y:', bitstring(y))\n",
    "print('(a XOR b) == (x AND y):\\n  ', bitstring(outcomes))\n",
    "print('Win rate: {}%'.format(win_percent))"
   ]
  },
  {
   "cell_type": "code",
   "execution_count": null,
   "metadata": {},
   "outputs": [],
   "source": []
  }
 ],
 "metadata": {
  "kernelspec": {
   "display_name": "Python 3",
   "language": "python",
   "name": "python3"
  },
  "language_info": {
   "codemirror_mode": {
    "name": "ipython",
    "version": 3
   },
   "file_extension": ".py",
   "mimetype": "text/x-python",
   "name": "python",
   "nbconvert_exporter": "python",
   "pygments_lexer": "ipython3",
   "version": "3.7.3"
  }
 },
 "nbformat": 4,
 "nbformat_minor": 4
}
