{
 "cells": [
  {
   "cell_type": "markdown",
   "metadata": {},
   "source": [
    "# Creates and simulates a circuit equivalent to a Bell inequality test"
   ]
  },
  {
   "cell_type": "markdown",
   "metadata": {},
   "source": [
    "Referance:\n",
    "https://cirq.readthedocs.io/en/stable/examples.html#bell-inequality"
   ]
  },
  {
   "cell_type": "code",
   "execution_count": 1,
   "metadata": {},
   "outputs": [],
   "source": [
    "import numpy as np\n",
    "import cirq"
   ]
  },
  {
   "cell_type": "code",
   "execution_count": 2,
   "metadata": {},
   "outputs": [],
   "source": [
    "def make_bell_test_circuit():\n",
    "    alice = cirq.GridQubit(0, 0)\n",
    "    bob = cirq.GridQubit(1, 0)\n",
    "    alice_referee = cirq.GridQubit(0, 1)\n",
    "    bob_referee = cirq.GridQubit(1, 1)\n",
    "\n",
    "    circuit = cirq.Circuit()\n",
    "\n",
    "    # Prepare shared entangled state.\n",
    "    circuit.append([\n",
    "        cirq.H(alice),\n",
    "        cirq.CNOT(alice, bob),\n",
    "        cirq.X(alice)**-0.25,\n",
    "    ])\n",
    "\n",
    "    # Referees flip coins.\n",
    "    circuit.append([\n",
    "        cirq.H(alice_referee),\n",
    "        cirq.H(bob_referee),\n",
    "    ], strategy=cirq.InsertStrategy.NEW_THEN_INLINE)\n",
    "\n",
    "    # Players do a sqrt(X) based on their referee's coin.\n",
    "    circuit.append([\n",
    "        cirq.CNOT(alice_referee, alice)**0.5,\n",
    "        cirq.CNOT(bob_referee, bob)**0.5,\n",
    "    ], strategy=cirq.InsertStrategy.NEW_THEN_INLINE)\n",
    "\n",
    "    # Then results are recorded.\n",
    "    circuit.append([\n",
    "        cirq.measure(alice, key='a'),\n",
    "        cirq.measure(bob, key='b'),\n",
    "        cirq.measure(alice_referee, key='x'),\n",
    "        cirq.measure(bob_referee, key='y'),\n",
    "    ], strategy=cirq.InsertStrategy.NEW_THEN_INLINE)\n",
    "\n",
    "    return circuit"
   ]
  },
  {
   "cell_type": "code",
   "execution_count": 3,
   "metadata": {},
   "outputs": [
    {
     "name": "stdout",
     "output_type": "stream",
     "text": [
      "Circuit:\n",
      "(0, 0): ───H───@───X^-0.25───────X───────M('a')───\n",
      "               │                 │\n",
      "(0, 1): ───────┼─────────────H───@^0.5───M('x')───\n",
      "               │\n",
      "(1, 0): ───────X─────────────────X───────M('b')───\n",
      "                                 │\n",
      "(1, 1): ─────────────────────H───@^0.5───M('y')───\n"
     ]
    }
   ],
   "source": [
    "# Create circuit.\n",
    "circuit = make_bell_test_circuit()\n",
    "print('Circuit:')\n",
    "print(circuit)"
   ]
  },
  {
   "cell_type": "code",
   "execution_count": 4,
   "metadata": {},
   "outputs": [
    {
     "name": "stdout",
     "output_type": "stream",
     "text": [
      "Simulating 10000 repetitions...\n"
     ]
    }
   ],
   "source": [
    "# Run simulations.\n",
    "repetitions = 10000\n",
    "print('Simulating {} repetitions...'.format(repetitions))\n",
    "result = cirq.Simulator().run(program=circuit, repetitions=repetitions)"
   ]
  },
  {
   "cell_type": "code",
   "execution_count": 5,
   "metadata": {},
   "outputs": [],
   "source": [
    "# Collect results.\n",
    "a = np.array(result.measurements['a'][:, 0])\n",
    "b = np.array(result.measurements['b'][:, 0])\n",
    "x = np.array(result.measurements['x'][:, 0])\n",
    "y = np.array(result.measurements['y'][:, 0])\n",
    "outcomes = a ^ b == x & y\n",
    "win_percent = len([e for e in outcomes if e]) * 100 / repetitions"
   ]
  },
  {
   "cell_type": "code",
   "execution_count": 6,
   "metadata": {},
   "outputs": [],
   "source": [
    "def bitstring(bits):\n",
    "    return ''.join('1' if e else '_' for e in bits)"
   ]
  },
  {
   "cell_type": "code",
   "execution_count": 6,
   "metadata": {},
   "outputs": [
    {
     "name": "stdout",
     "output_type": "stream",
     "text": [
      "\n",
      "Results\n",
      "Win rate: 85.11%\n"
     ]
    }
   ],
   "source": [
    "# Print data.\n",
    "print()\n",
    "print('Results')\n",
    "# print('a:', bitstring(a))\n",
    "# print('b:', bitstring(b))\n",
    "# print('x:', bitstring(x))\n",
    "# print('y:', bitstring(y))\n",
    "# print('(a XOR b) == (x AND y):\\n  ', bitstring(outcomes))\n",
    "print('Win rate: {}%'.format(win_percent))"
   ]
  },
  {
   "cell_type": "code",
   "execution_count": 7,
   "metadata": {},
   "outputs": [
    {
     "data": {
      "text/plain": [
       "0.8535533905932737"
      ]
     },
     "execution_count": 7,
     "metadata": {},
     "output_type": "execute_result"
    }
   ],
   "source": [
    "np.cos(np.pi/8)**2"
   ]
  },
  {
   "cell_type": "code",
   "execution_count": null,
   "metadata": {},
   "outputs": [],
   "source": []
  }
 ],
 "metadata": {
  "kernelspec": {
   "display_name": "Python 3",
   "language": "python",
   "name": "python3"
  },
  "language_info": {
   "codemirror_mode": {
    "name": "ipython",
    "version": 3
   },
   "file_extension": ".py",
   "mimetype": "text/x-python",
   "name": "python",
   "nbconvert_exporter": "python",
   "pygments_lexer": "ipython3",
   "version": "3.7.3"
  }
 },
 "nbformat": 4,
 "nbformat_minor": 4
}
